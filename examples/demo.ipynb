{
 "cells": [
  {
   "cell_type": "markdown",
   "metadata": {},
   "source": [
    "# `wavinfo` Demonstration\n",
    "\n",
    "The `wavinfo` module allows you to read most of the metadata formats that are available for WAV files."
   ]
  },
  {
   "cell_type": "markdown",
   "metadata": {},
   "source": [
    "## Opening a WAV file for reading metadata\n",
    "\n",
    "The entry point for wavinfo is the `WavInfoReader` class:"
   ]
  },
  {
   "cell_type": "code",
   "execution_count": 1,
   "metadata": {},
   "outputs": [],
   "source": [
    "from wavinfo import WavInfoReader\n",
    "\n",
    "path = '../tests/test_files/sounddevices/A101_1.WAV'\n",
    "\n",
    "info = WavInfoReader(path)"
   ]
  },
  {
   "cell_type": "markdown",
   "metadata": {},
   "source": [
    "Once you have a `WavInfoReader`, you can access different metadata systems or \"scopes.\"\n",
    "\n",
    "The scopes that are presently supported are: \n",
    "  * `fmt`: sample format, sample rate, bit depth, block alignment, etc.\n",
    "  * `data`: data chunk description, bytes length and frames length.\n",
    "  * `ixml`: Gallery Software's iXML metadata, used by production sound recorder equipment and DAWs.\n",
    "  * `bext`: Broacast-WAV metadata as used by DAWs.\n",
    "  * `info`: title, artist and description metadata tags, among other items.\n",
    "  * `adm`: EBU Audio Defintion Model metadata, as used by Dolby Atmos.\n",
    "  * `cues`: Cue marker metadata, including labels and notes \n",
    "  * `dolby`: Dolby recorder and playback metadata\n",
    "  * `smpl`: Sampler midi note and loop metadata\n",
    "\n",
    "Each of these is an attribute of a `WavInfoReader` object.\n",
    "\n",
    "Each scope corresponds to a vendor-defined metadata system. Many scopes directly represent a specific file *chunk*, like `fmt` or `ixml`, and some may involve data read from many chunks. Examples of this would include `cues` or `adm`.\n"
   ]
  },
  {
   "cell_type": "markdown",
   "metadata": {},
   "source": [
    "## Metadata Scopes"
   ]
  },
  {
   "cell_type": "markdown",
   "metadata": {},
   "source": [
    "### `data` and `fmt`: Basic WAV Data\n",
    "\n",
    "The length of the file in frames (interleaved samples) and bytes is available, as is the contents of the format chunk."
   ]
  },
  {
   "cell_type": "code",
   "execution_count": 2,
   "metadata": {},
   "outputs": [
    {
     "data": {
      "text/plain": [
       "(240239, 1441434)"
      ]
     },
     "execution_count": 2,
     "metadata": {},
     "output_type": "execute_result"
    }
   ],
   "source": [
    "(info.data.frame_count, info.data.byte_count)"
   ]
  },
  {
   "cell_type": "markdown",
   "metadata": {},
   "source": [
    "The `fmt` scope allows the client to read metadata from the WAVE format description."
   ]
  },
  {
   "cell_type": "code",
   "execution_count": 3,
   "metadata": {},
   "outputs": [
    {
     "data": {
      "text/plain": [
       "(48000, 2, 6, 24)"
      ]
     },
     "execution_count": 3,
     "metadata": {},
     "output_type": "execute_result"
    }
   ],
   "source": [
    "(info.fmt.sample_rate, info.fmt.channel_count, info.fmt.block_align, info.fmt.bits_per_sample)"
   ]
  },
  {
   "cell_type": "markdown",
   "metadata": {},
   "source": [
    "### `bext`: Broadcast WAV Extension\n",
    "\n",
    "The `bext` scope allows the client to access Broadcast-WAV metadata. "
   ]
  },
  {
   "cell_type": "code",
   "execution_count": 4,
   "metadata": {},
   "outputs": [
    {
     "name": "stdout",
     "output_type": "stream",
     "text": [
      "sSPEED=023.976-ND\n",
      "sTAKE=1\n",
      "sUBITS=$12311801\n",
      "sSWVER=2.67\n",
      "sPROJECT=BMH\n",
      "sSCENE=A101\n",
      "sFILENAME=A101_1.WAV\n",
      "sTAPE=18Y12M31\n",
      "sTRK1=MKH516 A\n",
      "sTRK2=Boom\n",
      "sNOTE=\n",
      "\n",
      "----------\n",
      "Originator: Sound Dev: 702T S#GR1112089007\n",
      "Originator Ref: USSDVGR1112089007124001008206301\n",
      "Originator Date: 2018-12-31\n",
      "Originator Time: 12:40:00\n",
      "Time Reference: 2190940753\n",
      "A=PCM,F=48000,W=24,M=stereo,R=48000,T=2 Ch\n",
      "\n"
     ]
    }
   ],
   "source": [
    "print(info.bext.description)\n",
    "print(\"----------\")\n",
    "print(\"Originator:\", info.bext.originator)\n",
    "print(\"Originator Ref:\", info.bext.originator_ref)\n",
    "print(\"Originator Date:\", info.bext.originator_date)\n",
    "print(\"Originator Time:\", info.bext.originator_time)\n",
    "print(\"Time Reference:\", info.bext.time_reference)\n",
    "print(info.bext.coding_history)"
   ]
  },
  {
   "cell_type": "markdown",
   "metadata": {},
   "source": [
    "### `ixml`: iXML Production Recorder Metadata"
   ]
  },
  {
   "cell_type": "code",
   "execution_count": 5,
   "metadata": {},
   "outputs": [
    {
     "name": "stdout",
     "output_type": "stream",
     "text": [
      "iXML Project: BMH\n",
      "iXML Scene: A101\n",
      "iXML Take: 1\n",
      "iXML Tape: 18Y12M31\n",
      "iXML File Family Name: None\n",
      "iXML File Family UID: USSDVGR1112089007124001008206300\n"
     ]
    }
   ],
   "source": [
    "print(\"iXML Project:\", info.ixml.project)\n",
    "print(\"iXML Scene:\", info.ixml.scene)\n",
    "print(\"iXML Take:\", info.ixml.take)\n",
    "print(\"iXML Tape:\", info.ixml.tape)\n",
    "print(\"iXML File Family Name:\", info.ixml.family_name)\n",
    "print(\"iXML File Family UID:\", info.ixml.family_uid)"
   ]
  },
  {
   "cell_type": "markdown",
   "metadata": {},
   "source": [
    "### `cues`: Cues Metadata\n",
    "\n",
    "Cue time markers are accessible through the `cues` scope. The `each_cue` method returns an iterator that yields a tuple of each cue \"name\" or integer UID, and sample location. "
   ]
  },
  {
   "cell_type": "code",
   "execution_count": 6,
   "metadata": {},
   "outputs": [
    {
     "name": "stdout",
     "output_type": "stream",
     "text": [
      "Cue ID: 1\n",
      "Cue Offset: 29616\n",
      "Cue ID: 2\n",
      "Cue Offset: 74592\n",
      "Cue ID: 3\n",
      "Cue Offset: 121200\n"
     ]
    }
   ],
   "source": [
    "path = \"../tests/test_files/cue_chunks/STE-000.wav\"\n",
    "info = WavInfoReader(path)\n",
    "\n",
    "for cue in info.cues.each_cue():\n",
    "    print(f\"Cue ID: {cue[0]}\")\n",
    "    print(f\"Cue Offset: {cue[1]}\")"
   ]
  },
  {
   "cell_type": "markdown",
   "metadata": {},
   "source": [
    "There is also a convenience method to get the appropriate label and note for a given marker. (Note here also `WavInfoReader`'s facility for overriding default text encodings.)"
   ]
  },
  {
   "cell_type": "code",
   "execution_count": 7,
   "metadata": {},
   "outputs": [
    {
     "name": "stdout",
     "output_type": "stream",
     "text": [
      "Cue ID: 1\n",
      "    Label: Marker 1\n",
      "    At: 1000\n",
      "    Note: <NO NOTE>\n",
      "Cue ID: 2\n",
      "    Label: Marker 2\n",
      "    At: 5000\n",
      "    Note: Marker Comment 1\n",
      "Cue ID: 3\n",
      "    Label: Marker 3\n",
      "    At: 10000\n",
      "    Note: Лорем ипсум долор сит амет, тимеам вивендум хас ет, цу адолесценс дефинитионес еам.\n"
     ]
    }
   ],
   "source": [
    "path = \"../tests/test_files/cue_chunks/izotoperx_cues_test.wav\"\n",
    "info = WavInfoReader(path, info_encoding=\"utf-8\") # iZotope RX seems to encode marker text as UTF-8\n",
    "\n",
    "for cue in info.cues.each_cue():\n",
    "    print(f\"Cue ID: {cue[0]}\")\n",
    "    label, note = info.cues.label_and_note(cue[0])\n",
    "    print(f\"    Label: {label}\")\n",
    "    print(f\"    At: {cue[1]}\")\n",
    "    print(f\"    Note: {note or '<NO NOTE>'}\")"
   ]
  },
  {
   "cell_type": "code",
   "execution_count": null,
   "metadata": {},
   "outputs": [],
   "source": []
  }
 ],
 "metadata": {
  "kernelspec": {
   "display_name": "Python 3 (ipykernel)",
   "language": "python",
   "name": "python3"
  },
  "language_info": {
   "codemirror_mode": {
    "name": "ipython",
    "version": 3
   },
   "file_extension": ".py",
   "mimetype": "text/x-python",
   "name": "python",
   "nbconvert_exporter": "python",
   "pygments_lexer": "ipython3",
   "version": "3.12.5"
  }
 },
 "nbformat": 4,
 "nbformat_minor": 4
}
